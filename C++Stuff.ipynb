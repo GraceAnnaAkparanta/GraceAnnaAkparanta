{
  "nbformat": 4,
  "nbformat_minor": 0,
  "metadata": {
    "colab": {
      "provenance": [],
      "authorship_tag": "ABX9TyMaYXdwV/QoT7KzIW0XQ/Lh",
      "include_colab_link": true
    },
    "kernelspec": {
      "name": "python3",
      "display_name": "Python 3"
    },
    "language_info": {
      "name": "python"
    }
  },
  "cells": [
    {
      "cell_type": "markdown",
      "metadata": {
        "id": "view-in-github",
        "colab_type": "text"
      },
      "source": [
        "<a href=\"https://colab.research.google.com/github/GraceAnnaAkparanta/GraceAnnaAkparanta/blob/main/C%2B%2BStuff.ipynb\" target=\"_parent\"><img src=\"https://colab.research.google.com/assets/colab-badge.svg\" alt=\"Open In Colab\"/></a>"
      ]
    },
    {
      "cell_type": "code",
      "execution_count": null,
      "metadata": {
        "colab": {
          "base_uri": "https://localhost:8080/"
        },
        "id": "t1rhuptLSm8O",
        "outputId": "e0c77bdc-1523-43c7-e394-e2fb3629f74c"
      },
      "outputs": [
        {
          "output_type": "stream",
          "name": "stdout",
          "text": [
            "Writing helloworld.cpp\n"
          ]
        }
      ],
      "source": [
        "%%writefile helloworld.cpp\n",
        "\n",
        "#include <iostream>\n",
        "using namespace std;\n",
        "\n",
        "int main() {\n",
        "\n",
        "  cout << \"Hello World!\";\n",
        "\n",
        "  return 0;\n",
        "}"
      ]
    },
    {
      "cell_type": "code",
      "source": [
        "! g++ helloworld.cpp -o C++Stuff\n",
        "! ./C++Stuff"
      ],
      "metadata": {
        "colab": {
          "base_uri": "https://localhost:8080/"
        },
        "id": "Q3yq3weISqTn",
        "outputId": "5cc1e79e-6e7f-44a5-d072-804e78b46550"
      },
      "execution_count": null,
      "outputs": [
        {
          "output_type": "stream",
          "name": "stdout",
          "text": [
            "Hello World!"
          ]
        }
      ]
    },
    {
      "cell_type": "code",
      "source": [
        "%%writefile file1.cpp\n",
        "\n",
        "\n",
        "//allows us to use (the predefined object) cout to generate output and (the mainpulator) endl.\n",
        "#include <iostream>\n",
        "\n",
        "//allows you to use cout and endl w/o the prefix std::\n",
        "using namespace std;\n",
        "\n",
        "// C++ program = collection of functions.\n",
        "//function is a set of statements whose objective is to accomplish soemthing. All C++ programs require the function main.\n",
        "int main() {//begins the body of function main\n",
        "\n",
        "  double length;\n",
        "  double width;\n",
        "  double area;\n",
        "  double perimeter;\n",
        "\n",
        "// << is an operator, called the stream insertion operator\n",
        "  cout << \"Program to compute and output the perimeter and \" << \"area of a rectangle.\\n\" << endl; // anything in double quotes is a string, a string = evaulates to itself.\n",
        "\n",
        "  width = 4.0;\n",
        "  perimeter = 2 * (length + width);  // length + width is an arithmetic expression; evaluates to the rules of arithmetis operations.\n",
        "\n",
        "\n",
        "cout << \"Enter number and press enter: \";\n",
        "cin >> length;\n",
        "cout << endl;\n",
        "  cout << \"Length = \" << length << endl; // identifer length evaluates to the value of length\n",
        "  cout << \"Width = \" << width << endl;\n",
        "  cout << \"Perimeter = \" << perimeter << endl;\n",
        "    area = length * width;\n",
        "  cout << \"Area = \" << area << endl;\n",
        "\n",
        "  return 0;\n",
        "}\n",
        "\n",
        "//all data must be loaded into main memory before it can be manipulated.\n",
        "//variable is a memory location whose contents can be changed."
      ],
      "metadata": {
        "colab": {
          "base_uri": "https://localhost:8080/"
        },
        "id": "Ax9BuPL9TYrb",
        "outputId": "ae0f62fd-f18f-4c4a-8928-b777509a61c7"
      },
      "execution_count": null,
      "outputs": [
        {
          "output_type": "stream",
          "name": "stdout",
          "text": [
            "Writing file1.cpp\n"
          ]
        }
      ]
    },
    {
      "cell_type": "code",
      "source": [
        "! g++ file1.cpp -o C++Stuff\n",
        "! ./C++Stuff"
      ],
      "metadata": {
        "colab": {
          "base_uri": "https://localhost:8080/"
        },
        "id": "rENfh7QVTTBy",
        "outputId": "633eae8b-c857-478e-f703-7e8ea198bbe4"
      },
      "execution_count": null,
      "outputs": [
        {
          "output_type": "stream",
          "name": "stdout",
          "text": [
            "Program to compute and output the perimeter and area of a rectangle.\n",
            "\n",
            "Enter number and press enter: 25\n",
            "\n",
            "Length = 25\n",
            "Width = 4\n",
            "Perimeter = 8\n",
            "Area = 100\n"
          ]
        }
      ]
    },
    {
      "cell_type": "code",
      "source": [
        "%%writefile Prac1.cpp\n",
        "\n",
        "#include <iostream>\n",
        "#include <unordered_map>\n",
        "\n",
        "using namespace std;\n",
        "\n",
        "int main() {\n",
        "\n",
        "  /*Syntax to call unorder map:\n",
        "  unordered_map<key, value> hashMap;\n",
        "  */\n",
        "\n",
        "  //average time complexity for search, insertion and deletion of a std::unordered_map is o(1)\n",
        "\n",
        "  // Declaring hashMap to be of\n",
        "  // <string, int> type key\n",
        "  // will be of STRING type\n",
        "  // and mapped VALUE will\n",
        "  // be of int type\n",
        "  unordered_map<string, int> hashMap;\n",
        "\n",
        "  //Insert key-value pairs into the unordered_map:\n",
        "  hashMap[\"one\"] = 10;\n",
        "  hashMap[\"two\"] = 20;\n",
        "  hashMap[\"three\"] = 30;\n",
        "  hashMap[\"four\"] = 40;\n",
        "  hashMap[\"five\"] = 50;\n",
        "  hashMap[\"six\"] = 60;\n",
        "  hashMap[\"seven\"] = 70;\n",
        "  hashMap[\"eight\"] = 80;\n",
        "  hashMap[\"nine\"] = 90;\n",
        "  hashMap[\"ten\"] = 100;\n",
        "\n",
        "\n",
        "  //Declaring the iterator explicitly\n",
        "  unordered_map<string, int>::iterator itr;\n",
        "\n",
        "  // Intiailize the iterator to the first element of hashMap\n",
        "  itr = hashMap.begin();\n",
        "\n",
        "  while (itr != hashMap.end()) {\n",
        "    string Thekey = itr->first;\n",
        "    int Thevalue = itr->second;\n",
        "    ++itr;\n",
        "\n",
        "    cout << \"Key: \" << Thekey << \", Value: \" << Thevalue << endl;\n",
        "  }\n",
        "\n",
        "  return 0;\n",
        "}"
      ],
      "metadata": {
        "colab": {
          "base_uri": "https://localhost:8080/"
        },
        "id": "IRNHWiI_TGoR",
        "outputId": "03bc06d1-b9f5-449f-9a90-51ff140f46bb"
      },
      "execution_count": null,
      "outputs": [
        {
          "output_type": "stream",
          "name": "stdout",
          "text": [
            "Overwriting Prac1.cpp\n"
          ]
        }
      ]
    },
    {
      "cell_type": "code",
      "source": [
        "! g++ Prac1.cpp -o C++Stuff\n",
        "! ./C++Stuff"
      ],
      "metadata": {
        "colab": {
          "base_uri": "https://localhost:8080/"
        },
        "outputId": "559ed596-90a6-4842-ac45-a5033b12fa5c",
        "id": "_aDiP9Wherl1"
      },
      "execution_count": null,
      "outputs": [
        {
          "output_type": "stream",
          "name": "stdout",
          "text": [
            "Key: ten, Value: 100\n",
            "Key: eight, Value: 80\n",
            "Key: seven, Value: 70\n",
            "Key: six, Value: 60\n",
            "Key: five, Value: 50\n",
            "Key: nine, Value: 90\n",
            "Key: four, Value: 40\n",
            "Key: three, Value: 30\n",
            "Key: two, Value: 20\n",
            "Key: one, Value: 10\n"
          ]
        }
      ]
    },
    {
      "cell_type": "code",
      "source": [
        "%%writefile Prac2.cpp\n",
        "\n",
        "#include <iostream>\n",
        "\n",
        "using namespace std;\n",
        "\n",
        "int main() {\n",
        "  int a = 1;\n",
        "  int b = 2;\n",
        "  int c = a; // c = 1\n",
        "\n",
        "  a = b; // a stores 2\n",
        "  b = c; // b stores 1\n",
        "\n",
        "  cout << b;\n",
        "\n",
        "  return 0;\n",
        "}"
      ],
      "metadata": {
        "colab": {
          "base_uri": "https://localhost:8080/"
        },
        "id": "T_pFM5jh0_oS",
        "outputId": "95d8d725-6d4c-414c-9912-71fb147bd473"
      },
      "execution_count": null,
      "outputs": [
        {
          "output_type": "stream",
          "name": "stdout",
          "text": [
            "Overwriting Prac2.cpp\n"
          ]
        }
      ]
    },
    {
      "cell_type": "code",
      "source": [
        "! g++ Prac2.cpp -o C++Stuff\n",
        "! ./C++Stuff"
      ],
      "metadata": {
        "colab": {
          "base_uri": "https://localhost:8080/"
        },
        "id": "lU_AQuZn1mhV",
        "outputId": "1f94da60-32d4-479f-99b1-e5968209116b"
      },
      "execution_count": null,
      "outputs": [
        {
          "output_type": "stream",
          "name": "stdout",
          "text": [
            "1"
          ]
        }
      ]
    },
    {
      "cell_type": "code",
      "source": [
        "%%writefile Prac3.cpp\n",
        "\n",
        "#include <iostream>\n",
        "\n",
        "using namespace std;\n",
        "\n",
        "int main() {\n",
        "  int x = 10;\n",
        "  // int y = x++; // x = 11, y = 10 postfix\n",
        "  int z = ++x; // x = 11, z = 11 prefix\n",
        "\n",
        "  cout << z << \" \" << x;\n",
        "\n",
        "  return 0;\n",
        "}"
      ],
      "metadata": {
        "colab": {
          "base_uri": "https://localhost:8080/"
        },
        "id": "T-4e-zOm20Ud",
        "outputId": "33e08b54-3f82-4799-868b-94e9a54478de"
      },
      "execution_count": null,
      "outputs": [
        {
          "output_type": "stream",
          "name": "stdout",
          "text": [
            "Writing Prac3.cpp\n"
          ]
        }
      ]
    },
    {
      "cell_type": "code",
      "source": [
        "! g++ Prac3.cpp -o C++Stuff\n",
        "! ./C++Stuff"
      ],
      "metadata": {
        "colab": {
          "base_uri": "https://localhost:8080/"
        },
        "id": "vWNxpdw0FAwP",
        "outputId": "c385d8f3-5a66-4123-fb37-03f2edfab13c"
      },
      "execution_count": null,
      "outputs": [
        {
          "output_type": "stream",
          "name": "stdout",
          "text": [
            "12 12"
          ]
        }
      ]
    },
    {
      "cell_type": "code",
      "source": [
        "%%writefile Prac4.cpp\n",
        "\n",
        "#include <iostream>\n",
        "\n",
        "using namespace std;\n",
        "\n",
        "int main() {\n",
        "\n",
        "  int x = 10;\n",
        "  double y = 5;\n",
        "\n",
        "  double z = (x + 10) / (3 * y);\n",
        "\n",
        "  cout << z;\n",
        "\n",
        "  return 0;\n",
        "}"
      ],
      "metadata": {
        "id": "Sb9NokhtFFYF",
        "colab": {
          "base_uri": "https://localhost:8080/"
        },
        "outputId": "0fe77f33-b331-455d-c192-50ca8f5f761d"
      },
      "execution_count": null,
      "outputs": [
        {
          "output_type": "stream",
          "name": "stdout",
          "text": [
            "Overwriting Prac4.cpp\n"
          ]
        }
      ]
    },
    {
      "cell_type": "code",
      "source": [
        "! g++ Prac4.cpp -o C++Stuff\n",
        "! ./C++Stuff"
      ],
      "metadata": {
        "colab": {
          "base_uri": "https://localhost:8080/"
        },
        "id": "HfHtkKOTB4m7",
        "outputId": "ceaa51f3-3430-4415-abbc-08af727eb545"
      },
      "execution_count": null,
      "outputs": [
        {
          "output_type": "stream",
          "name": "stdout",
          "text": [
            "1.33333"
          ]
        }
      ]
    },
    {
      "cell_type": "code",
      "source": [
        "%%writefile Prac5.cpp\n",
        "\n",
        "#include <iostream>\n",
        "\n",
        "using namespace std;\n",
        "\n",
        "int main() {\n",
        "\n",
        "  string username;\n",
        "\n",
        "  cout << \"Enter you name: \" << username;\n",
        "  cin >> username;\n",
        "\n",
        "  int sales;\n",
        "  cout << \"Enter slaes incomce:\" << sales;\n",
        "  cin >> sales;\n",
        "\n",
        "  const double statetax = 0.04;\n",
        "  const double countytax = 0.02;\n",
        "\n",
        "  double Staxes = (sales * statetax);\n",
        "  double CTtaxes = (sales * countytax);\n",
        "  double total = Staxes + CTtaxes;\n",
        "\n",
        "  cout << username << \", your total sales is: $\" << sales << endl;\n",
        "  cout << \"Your state tax is: $\" << Staxes << \". and your County tax is: $\" << CTtaxes << endl;\n",
        "  cout << \"The total tax that you have to pay on your income is: $\" << total << endl;\n",
        "\n",
        "  return 0;\n",
        "}"
      ],
      "metadata": {
        "id": "b3684tDNC0sd",
        "colab": {
          "base_uri": "https://localhost:8080/"
        },
        "outputId": "c84c25ef-e2ac-42c6-dc7e-3a20f9584f46"
      },
      "execution_count": 46,
      "outputs": [
        {
          "output_type": "stream",
          "name": "stdout",
          "text": [
            "Overwriting Prac5.cpp\n"
          ]
        }
      ]
    },
    {
      "cell_type": "code",
      "source": [
        "! g++ Prac5.cpp -o C++Stuff\n",
        "! ./C++Stuff"
      ],
      "metadata": {
        "colab": {
          "base_uri": "https://localhost:8080/"
        },
        "id": "PiiBZEKQJ5rf",
        "outputId": "6d64e40c-8cc0-424c-90ff-ea978d03e54b"
      },
      "execution_count": 47,
      "outputs": [
        {
          "output_type": "stream",
          "name": "stdout",
          "text": [
            "Enter you name: Grace\n",
            "Enter slaes incomce:095000\n",
            "Grace, your total sales is: $95000\n",
            "Your state tax is: $3800. and your County tax is: $1900\n",
            "The total tax that you have to pay on your income is: $5700\n"
          ]
        }
      ]
    },
    {
      "cell_type": "code",
      "source": [
        "%%writefile Prac5.cpp\n",
        "\n",
        "#include <iostream>\n",
        "\n",
        "using namespace std;\n",
        "\n",
        "int main() {\n",
        "\n",
        "  return 0;\n",
        "}"
      ],
      "metadata": {
        "id": "xEcaunOiRIEd"
      },
      "execution_count": null,
      "outputs": []
    }
  ]
}