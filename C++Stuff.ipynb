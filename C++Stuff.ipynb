{
  "nbformat": 4,
  "nbformat_minor": 0,
  "metadata": {
    "colab": {
      "provenance": [],
      "authorship_tag": "ABX9TyM9CTokbQAiz+H+Cb8cIpen",
      "include_colab_link": true
    },
    "kernelspec": {
      "name": "python3",
      "display_name": "Python 3"
    },
    "language_info": {
      "name": "python"
    }
  },
  "cells": [
    {
      "cell_type": "markdown",
      "metadata": {
        "id": "view-in-github",
        "colab_type": "text"
      },
      "source": [
        "<a href=\"https://colab.research.google.com/github/GraceAnnaAkparanta/GraceAnnaAkparanta/blob/main/C%2B%2BStuff.ipynb\" target=\"_parent\"><img src=\"https://colab.research.google.com/assets/colab-badge.svg\" alt=\"Open In Colab\"/></a>"
      ]
    },
    {
      "cell_type": "code",
      "execution_count": null,
      "metadata": {
        "colab": {
          "base_uri": "https://localhost:8080/"
        },
        "id": "t1rhuptLSm8O",
        "outputId": "e0c77bdc-1523-43c7-e394-e2fb3629f74c"
      },
      "outputs": [
        {
          "output_type": "stream",
          "name": "stdout",
          "text": [
            "Writing helloworld.cpp\n"
          ]
        }
      ],
      "source": [
        "%%writefile helloworld.cpp\n",
        "\n",
        "#include <iostream>\n",
        "using namespace std;\n",
        "\n",
        "int main() {\n",
        "\n",
        "  cout << \"Hello World!\";\n",
        "\n",
        "  return 0;\n",
        "}"
      ]
    },
    {
      "cell_type": "code",
      "source": [
        "! g++ helloworld.cpp -o C++Stuff\n",
        "! ./C++Stuff"
      ],
      "metadata": {
        "colab": {
          "base_uri": "https://localhost:8080/"
        },
        "id": "Q3yq3weISqTn",
        "outputId": "5cc1e79e-6e7f-44a5-d072-804e78b46550"
      },
      "execution_count": null,
      "outputs": [
        {
          "output_type": "stream",
          "name": "stdout",
          "text": [
            "Hello World!"
          ]
        }
      ]
    },
    {
      "cell_type": "code",
      "source": [
        "%%writefile file1.cpp\n",
        "\n",
        "\n",
        "//allows us to use (the predefined object) cout to generate output and (the mainpulator) endl.\n",
        "#include <iostream>\n",
        "\n",
        "//allows you to use cout and endl w/o the prefix std::\n",
        "using namespace std;\n",
        "\n",
        "// C++ program = collection of functions.\n",
        "//function is a set of statements whose objective is to accomplish soemthing. All C++ programs require the function main.\n",
        "int main() {//begins the body of function main\n",
        "\n",
        "  double length;\n",
        "  double width;\n",
        "  double area;\n",
        "  double perimeter;\n",
        "\n",
        "// << is an operator, called the stream insertion operator\n",
        "  cout << \"Program to compute and output the perimeter and \" << \"area of a rectangle.\\n\" << endl; // anything in double quotes is a string, a string = evaulates to itself.\n",
        "\n",
        "  width = 4.0;\n",
        "  perimeter = 2 * (length + width);  // length + width is an arithmetic expression; evaluates to the rules of arithmetis operations.\n",
        "\n",
        "\n",
        "cout << \"Enter number and press enter: \";\n",
        "cin >> length;\n",
        "cout << endl;\n",
        "  cout << \"Length = \" << length << endl; // identifer length evaluates to the value of length\n",
        "  cout << \"Width = \" << width << endl;\n",
        "  cout << \"Perimeter = \" << perimeter << endl;\n",
        "    area = length * width;\n",
        "  cout << \"Area = \" << area << endl;\n",
        "\n",
        "  return 0;\n",
        "}\n",
        "\n",
        "//all data must be loaded into main memory before it can be manipulated.\n",
        "//variable is a memory location whose contents can be changed."
      ],
      "metadata": {
        "colab": {
          "base_uri": "https://localhost:8080/"
        },
        "id": "Ax9BuPL9TYrb",
        "outputId": "ae0f62fd-f18f-4c4a-8928-b777509a61c7"
      },
      "execution_count": null,
      "outputs": [
        {
          "output_type": "stream",
          "name": "stdout",
          "text": [
            "Writing file1.cpp\n"
          ]
        }
      ]
    },
    {
      "cell_type": "code",
      "source": [
        "! g++ file1.cpp -o C++Stuff\n",
        "! ./C++Stuff"
      ],
      "metadata": {
        "colab": {
          "base_uri": "https://localhost:8080/"
        },
        "id": "rENfh7QVTTBy",
        "outputId": "633eae8b-c857-478e-f703-7e8ea198bbe4"
      },
      "execution_count": null,
      "outputs": [
        {
          "output_type": "stream",
          "name": "stdout",
          "text": [
            "Program to compute and output the perimeter and area of a rectangle.\n",
            "\n",
            "Enter number and press enter: 25\n",
            "\n",
            "Length = 25\n",
            "Width = 4\n",
            "Perimeter = 8\n",
            "Area = 100\n"
          ]
        }
      ]
    },
    {
      "cell_type": "code",
      "source": [
        "%%writefile Prac1.cpp\n",
        "\n",
        "#include <iostream>\n",
        "#include <unordered_map>\n",
        "\n",
        "using namespace std;\n",
        "\n",
        "int main() {\n",
        "\n",
        "  /*Syntax to call unorder map:\n",
        "  unordered_map<key, value> hashMap;\n",
        "  */\n",
        "\n",
        "  //average time complexity for search, insertion and deletion of a std::unordered_map is o(1)\n",
        "\n",
        "  // Declaring hashMap to be of\n",
        "  // <string, int> type key\n",
        "  // will be of STRING type\n",
        "  // and mapped VALUE will\n",
        "  // be of int type\n",
        "  unordered_map<string, int> hashMap;\n",
        "\n",
        "  //Insert key-value pairs into the unordered_map:\n",
        "  hashMap[\"one\"] = 10;\n",
        "  hashMap[\"two\"] = 20;\n",
        "  hashMap[\"three\"] = 30;\n",
        "  hashMap[\"four\"] = 40;\n",
        "  hashMap[\"five\"] = 50;\n",
        "  hashMap[\"six\"] = 60;\n",
        "  hashMap[\"seven\"] = 70;\n",
        "  hashMap[\"eight\"] = 80;\n",
        "  hashMap[\"nine\"] = 90;\n",
        "  hashMap[\"ten\"] = 100;\n",
        "\n",
        "\n",
        "  //Declaring the iterator explicitly\n",
        "  unordered_map<string, int>::iterator itr;\n",
        "\n",
        "  // Intiailize the iterator to the first element of hashMap\n",
        "  itr = hashMap.begin();\n",
        "\n",
        "  while (itr != hashMap.end()) {\n",
        "    string Thekey = itr->first;\n",
        "    int Thevalue = itr->second;\n",
        "    ++itr;\n",
        "\n",
        "    cout << \"Key: \" << Thekey << \", Value: \" << Thevalue << endl;\n",
        "  }\n",
        "\n",
        "  return 0;\n",
        "}"
      ],
      "metadata": {
        "colab": {
          "base_uri": "https://localhost:8080/"
        },
        "id": "IRNHWiI_TGoR",
        "outputId": "03bc06d1-b9f5-449f-9a90-51ff140f46bb"
      },
      "execution_count": null,
      "outputs": [
        {
          "output_type": "stream",
          "name": "stdout",
          "text": [
            "Overwriting Prac1.cpp\n"
          ]
        }
      ]
    },
    {
      "cell_type": "code",
      "source": [
        "! g++ Prac1.cpp -o C++Stuff\n",
        "! ./C++Stuff"
      ],
      "metadata": {
        "colab": {
          "base_uri": "https://localhost:8080/"
        },
        "outputId": "559ed596-90a6-4842-ac45-a5033b12fa5c",
        "id": "_aDiP9Wherl1"
      },
      "execution_count": null,
      "outputs": [
        {
          "output_type": "stream",
          "name": "stdout",
          "text": [
            "Key: ten, Value: 100\n",
            "Key: eight, Value: 80\n",
            "Key: seven, Value: 70\n",
            "Key: six, Value: 60\n",
            "Key: five, Value: 50\n",
            "Key: nine, Value: 90\n",
            "Key: four, Value: 40\n",
            "Key: three, Value: 30\n",
            "Key: two, Value: 20\n",
            "Key: one, Value: 10\n"
          ]
        }
      ]
    },
    {
      "cell_type": "code",
      "source": [
        "%%writefile Prac2.cpp\n",
        "\n",
        "#include <iostream>\n",
        "\n",
        "using namespace std;\n",
        "\n",
        "int main() {\n",
        "  int a = 1;\n",
        "  int b = 2;\n",
        "  int c = a; // c = 1\n",
        "\n",
        "  a = b; // a stores 2\n",
        "  b = c; // b stores 1\n",
        "\n",
        "  cout << b;\n",
        "\n",
        "  return 0;\n",
        "}"
      ],
      "metadata": {
        "colab": {
          "base_uri": "https://localhost:8080/"
        },
        "id": "T_pFM5jh0_oS",
        "outputId": "95d8d725-6d4c-414c-9912-71fb147bd473"
      },
      "execution_count": null,
      "outputs": [
        {
          "output_type": "stream",
          "name": "stdout",
          "text": [
            "Overwriting Prac2.cpp\n"
          ]
        }
      ]
    },
    {
      "cell_type": "code",
      "source": [
        "! g++ Prac2.cpp -o C++Stuff\n",
        "! ./C++Stuff"
      ],
      "metadata": {
        "colab": {
          "base_uri": "https://localhost:8080/"
        },
        "id": "lU_AQuZn1mhV",
        "outputId": "1f94da60-32d4-479f-99b1-e5968209116b"
      },
      "execution_count": null,
      "outputs": [
        {
          "output_type": "stream",
          "name": "stdout",
          "text": [
            "1"
          ]
        }
      ]
    },
    {
      "cell_type": "code",
      "source": [
        "%%writefile Prac3.cpp\n",
        "\n",
        "#include <iostream>\n",
        "\n",
        "using namespace std;\n",
        "\n",
        "int main() {\n",
        "  int x = 10;\n",
        "  // int y = x++; // x = 11, y = 10 postfix\n",
        "  int z = ++x; // x = 11, z = 11 prefix\n",
        "\n",
        "  cout << z << \" \" << x;\n",
        "\n",
        "  return 0;\n",
        "}"
      ],
      "metadata": {
        "colab": {
          "base_uri": "https://localhost:8080/"
        },
        "id": "T-4e-zOm20Ud",
        "outputId": "33e08b54-3f82-4799-868b-94e9a54478de"
      },
      "execution_count": null,
      "outputs": [
        {
          "output_type": "stream",
          "name": "stdout",
          "text": [
            "Writing Prac3.cpp\n"
          ]
        }
      ]
    },
    {
      "cell_type": "code",
      "source": [
        "! g++ Prac3.cpp -o C++Stuff\n",
        "! ./C++Stuff"
      ],
      "metadata": {
        "colab": {
          "base_uri": "https://localhost:8080/"
        },
        "id": "vWNxpdw0FAwP",
        "outputId": "c385d8f3-5a66-4123-fb37-03f2edfab13c"
      },
      "execution_count": null,
      "outputs": [
        {
          "output_type": "stream",
          "name": "stdout",
          "text": [
            "12 12"
          ]
        }
      ]
    },
    {
      "cell_type": "code",
      "source": [
        "%%writefile Prac4.cpp\n",
        "\n",
        "#include <iostream>\n",
        "\n",
        "using namespace std;\n",
        "\n",
        "int main() {\n",
        "\n",
        "  int x = 10;\n",
        "  double y = 5;\n",
        "\n",
        "  double z = (x + 10) / (3 * y);\n",
        "\n",
        "  cout << z;\n",
        "\n",
        "  return 0;\n",
        "}"
      ],
      "metadata": {
        "id": "Sb9NokhtFFYF",
        "colab": {
          "base_uri": "https://localhost:8080/"
        },
        "outputId": "0fe77f33-b331-455d-c192-50ca8f5f761d"
      },
      "execution_count": null,
      "outputs": [
        {
          "output_type": "stream",
          "name": "stdout",
          "text": [
            "Overwriting Prac4.cpp\n"
          ]
        }
      ]
    },
    {
      "cell_type": "code",
      "source": [
        "! g++ Prac4.cpp -o C++Stuff\n",
        "! ./C++Stuff"
      ],
      "metadata": {
        "colab": {
          "base_uri": "https://localhost:8080/"
        },
        "id": "HfHtkKOTB4m7",
        "outputId": "ceaa51f3-3430-4415-abbc-08af727eb545"
      },
      "execution_count": null,
      "outputs": [
        {
          "output_type": "stream",
          "name": "stdout",
          "text": [
            "1.33333"
          ]
        }
      ]
    },
    {
      "cell_type": "code",
      "source": [
        "%%writefile Prac5.cpp\n",
        "\n",
        "#include <iostream>\n",
        "\n",
        "using namespace std;\n",
        "\n",
        "int main() {\n",
        "\n",
        "  string username;\n",
        "\n",
        "  cout << \"Enter you name: \" << username;\n",
        "  cin >> username;\n",
        "\n",
        "  int sales;\n",
        "  cout << \"Enter slaes incomce:\" << sales;\n",
        "  cin >> sales;\n",
        "\n",
        "  const double statetax = 0.04;\n",
        "  const double countytax = 0.02;\n",
        "\n",
        "  double Staxes = (sales * statetax);\n",
        "  double CTtaxes = (sales * countytax);\n",
        "  double total = Staxes + CTtaxes;\n",
        "\n",
        "  cout << username << \", your total sales is: $\" << sales << endl;\n",
        "  cout << \"Your state tax is: $\" << Staxes << \". and your County tax is: $\" << CTtaxes << endl;\n",
        "  cout << \"The total tax that you have to pay on your income is: $\" << total << endl;\n",
        "\n",
        "  return 0;\n",
        "}"
      ],
      "metadata": {
        "id": "b3684tDNC0sd",
        "colab": {
          "base_uri": "https://localhost:8080/"
        },
        "outputId": "c84c25ef-e2ac-42c6-dc7e-3a20f9584f46"
      },
      "execution_count": null,
      "outputs": [
        {
          "output_type": "stream",
          "name": "stdout",
          "text": [
            "Overwriting Prac5.cpp\n"
          ]
        }
      ]
    },
    {
      "cell_type": "code",
      "source": [
        "! g++ Prac5.cpp -o C++Stuff\n",
        "! ./C++Stuff"
      ],
      "metadata": {
        "colab": {
          "base_uri": "https://localhost:8080/"
        },
        "id": "PiiBZEKQJ5rf",
        "outputId": "6d64e40c-8cc0-424c-90ff-ea978d03e54b"
      },
      "execution_count": null,
      "outputs": [
        {
          "output_type": "stream",
          "name": "stdout",
          "text": [
            "Enter you name: Grace\n",
            "Enter slaes incomce:095000\n",
            "Grace, your total sales is: $95000\n",
            "Your state tax is: $3800. and your County tax is: $1900\n",
            "The total tax that you have to pay on your income is: $5700\n"
          ]
        }
      ]
    },
    {
      "cell_type": "code",
      "source": [
        "%%writefile Prac6.cpp\n",
        "\n",
        "#include <iostream>\n",
        "\n",
        "using namespace std;\n",
        "\n",
        "int main() {\n",
        "\n",
        "  int x;\n",
        "\n",
        "  cout << \"Enter a number: \" << endl;\n",
        "  cin >> x;\n",
        "\n",
        "  int y = x % 10;\n",
        "  cout << \"Is the last digit \" << y << \"?\" << endl;\n",
        "\n",
        "   int z = x / 10;\n",
        "  cout << \"Is the last digit \" << z << \"?\" << endl;\n",
        "\n",
        "  return 0;\n",
        "}"
      ],
      "metadata": {
        "colab": {
          "base_uri": "https://localhost:8080/"
        },
        "id": "xEcaunOiRIEd",
        "outputId": "4a6868ab-2519-418a-cf1f-95bb7bf15c56"
      },
      "execution_count": null,
      "outputs": [
        {
          "output_type": "stream",
          "name": "stdout",
          "text": [
            "Overwriting Prac6.cpp\n"
          ]
        }
      ]
    },
    {
      "cell_type": "code",
      "source": [
        "! g++ Prac6.cpp -o C++Stuff\n",
        "! ./C++Stuff"
      ],
      "metadata": {
        "colab": {
          "base_uri": "https://localhost:8080/"
        },
        "id": "wygoYb9K6JUi",
        "outputId": "6dfafc1f-eaba-40cd-aeef-0b66a550ec9e"
      },
      "execution_count": null,
      "outputs": [
        {
          "output_type": "stream",
          "name": "stdout",
          "text": [
            "Enter a number: \n",
            "20\n",
            "Is the last digit 0?\n",
            "Is the last digit 2?\n"
          ]
        }
      ]
    },
    {
      "cell_type": "code",
      "source": [
        "%%writefile Prac7.cpp\n",
        "\n",
        "#include <iostream>\n",
        "#include <cmath>\n",
        "\n",
        "using namespace std;\n",
        "\n",
        "int main() {\n",
        "\n",
        "  int fahrenheit;\n",
        "  double celsius;\n",
        "\n",
        "  cout << \"Enter temperature in Fahrenheit: \";\n",
        "  cin >> fahrenheit;\n",
        "\n",
        "  celsius = (fahrenheit - 32) * (5.0/9.0);\n",
        "\n",
        "  cout << fahrenheit << \"  fahrenheit is \" << celsius << \" degress celsius. (Not rounded)\" << endl;\n",
        "  cout << fahrenheit << \"  fahrenheit is \" << round(celsius) << \" degress celsius.\"; //had to include cmath library to use cmath\n",
        "\n",
        "  return 0;\n",
        "}"
      ],
      "metadata": {
        "colab": {
          "base_uri": "https://localhost:8080/"
        },
        "id": "3c7mTqfBsOQ-",
        "outputId": "2f10c97d-c894-4e1e-8398-df244d4b21cc"
      },
      "execution_count": null,
      "outputs": [
        {
          "output_type": "stream",
          "name": "stdout",
          "text": [
            "Overwriting Prac7.cpp\n"
          ]
        }
      ]
    },
    {
      "cell_type": "code",
      "source": [
        "! g++ Prac7.cpp -o C++Stuff\n",
        "! ./C++Stuff"
      ],
      "metadata": {
        "colab": {
          "base_uri": "https://localhost:8080/"
        },
        "id": "KsbFEzhcsPs8",
        "outputId": "b80721ab-2cf6-44ae-a21f-0a708bc538aa"
      },
      "execution_count": null,
      "outputs": [
        {
          "output_type": "stream",
          "name": "stdout",
          "text": [
            "Enter temperature in Fahrenheit: 76\n",
            "76  fahrenheit is 24.4444 degress celsius. (Not rounded)\n",
            "76  fahrenheit is 24 degress celsius."
          ]
        }
      ]
    },
    {
      "cell_type": "code",
      "source": [
        "%%writefile Prac8.cpp\n",
        "\n",
        "#include <iostream>\n",
        "#include <cmath>\n",
        "\n",
        "using namespace std;\n",
        "\n",
        "int main() {\n",
        "\n",
        "  double result = floor(1.2); //calling a floor function\n",
        "  cout << result << endl;\n",
        "\n",
        "  double resultex = pow(2, 3);\n",
        "  cout << resultex;\n",
        "\n",
        "  return 0;\n",
        "}"
      ],
      "metadata": {
        "colab": {
          "base_uri": "https://localhost:8080/"
        },
        "id": "38wGTIwhsVJS",
        "outputId": "8e6dcc96-92ed-46df-c28b-31b9d60d29a5"
      },
      "execution_count": null,
      "outputs": [
        {
          "output_type": "stream",
          "name": "stdout",
          "text": [
            "Overwriting Prac8.cpp\n"
          ]
        }
      ]
    },
    {
      "cell_type": "code",
      "source": [
        "! g++ Prac8.cpp -o C++Stuff\n",
        "! ./C++Stuff"
      ],
      "metadata": {
        "colab": {
          "base_uri": "https://localhost:8080/"
        },
        "id": "xtlXfcLqwD3Y",
        "outputId": "6faa48cb-c3f0-4479-96f1-10839b13ace0"
      },
      "execution_count": null,
      "outputs": [
        {
          "output_type": "stream",
          "name": "stdout",
          "text": [
            "1\n",
            "8"
          ]
        }
      ]
    },
    {
      "cell_type": "code",
      "source": [
        "%%writefile Prac9.cpp\n",
        "\n",
        "#include <iostream>\n",
        "#include <cmath>\n",
        "\n",
        "using namespace std;\n",
        "\n",
        "int main() {\n",
        "\n",
        "  cout << \"Enter the radius of a circle: \";\n",
        "  double radius;\n",
        "  cin >> radius;\n",
        "\n",
        "  double area = M_PI * pow(radius, 2); //The cmath library provides the constant M_PI which represents the value of Pi.\n",
        "  cout << \"The circle has a radius of \" << radius << \" and its area is \" << area << \".\" << endl;\n",
        "\n",
        "  return 0;\n",
        "}"
      ],
      "metadata": {
        "colab": {
          "base_uri": "https://localhost:8080/"
        },
        "id": "edlggVdmwmq4",
        "outputId": "f7592724-8b71-4341-e33b-7c85ae54b9ee"
      },
      "execution_count": null,
      "outputs": [
        {
          "output_type": "stream",
          "name": "stdout",
          "text": [
            "Overwriting Prac9.cpp\n"
          ]
        }
      ]
    },
    {
      "cell_type": "code",
      "source": [
        "! g++ Prac9.cpp -o C++Stuff\n",
        "! ./C++Stuff"
      ],
      "metadata": {
        "colab": {
          "base_uri": "https://localhost:8080/"
        },
        "id": "GBxVNmMbwuUN",
        "outputId": "781df2ee-a849-4370-dec3-3381702db95d"
      },
      "execution_count": null,
      "outputs": [
        {
          "output_type": "stream",
          "name": "stdout",
          "text": [
            "Enter the radius of a circle: 4\n",
            "The circle has a radius of 4 and its area is 50.2655.\n"
          ]
        }
      ]
    },
    {
      "cell_type": "code",
      "source": [
        "%%writefile PracX.cpp\n",
        "\n",
        "#include <iostream>\n",
        "#include <cmath>\n",
        "\n",
        "using namespace std;\n",
        "\n",
        "int main() {\n",
        "\n",
        "\n",
        "  int number = 0b11111111;\n",
        "  int num = 0xff;\n",
        "  number--;\n",
        "  cout << number << endl;\n",
        "  cout << num;\n",
        "\n",
        "  // empty brace Intiailizer\n",
        "  // int number {};\n",
        "  // cout << number;\n",
        "\n",
        "\n",
        "//  auto price = 99.99;\n",
        "//  float interestRate = 3.67F; //when working with float type you have to specify with F or f. Try stroing double in float = data lost\n",
        "//  long fileSize = 90000L;\n",
        "//  char letter = 'a';\n",
        "//  bool isVaild = false;\n",
        "\n",
        "\n",
        "  return 0;\n",
        "}"
      ],
      "metadata": {
        "colab": {
          "base_uri": "https://localhost:8080/"
        },
        "id": "-JXqhLNvx-Yd",
        "outputId": "97848efe-dba9-4924-dbc9-0f4f2a677495"
      },
      "execution_count": null,
      "outputs": [
        {
          "output_type": "stream",
          "name": "stdout",
          "text": [
            "Overwriting PracX.cpp\n"
          ]
        }
      ]
    },
    {
      "cell_type": "code",
      "source": [
        "! g++ PracX.cpp -o C++Stuff\n",
        "! ./C++Stuff"
      ],
      "metadata": {
        "colab": {
          "base_uri": "https://localhost:8080/"
        },
        "id": "q4O9dQ4KDHp7",
        "outputId": "55c6d234-83e2-4f51-a0ac-a09fbac5a8fb"
      },
      "execution_count": null,
      "outputs": [
        {
          "output_type": "stream",
          "name": "stdout",
          "text": [
            "254\n",
            "255"
          ]
        }
      ]
    },
    {
      "cell_type": "code",
      "source": [
        "%%writefile PracXI.cpp\n",
        "\n",
        "#include <iostream>\n",
        "\n",
        "using namespace std;\n",
        "\n",
        "int main() {\n",
        "\n",
        "  // we cannot store big values in small data types (short 2 bytes >> int 4 bytes)\n",
        "  short number = 100;\n",
        "  int another{number};\n",
        "  cout << another;\n",
        "\n",
        "  return 0;\n",
        "}"
      ],
      "metadata": {
        "colab": {
          "base_uri": "https://localhost:8080/"
        },
        "id": "ms66NbsjEvC0",
        "outputId": "bb4be986-0132-4d0d-8b7f-c752b2d9f6c4"
      },
      "execution_count": null,
      "outputs": [
        {
          "output_type": "stream",
          "name": "stdout",
          "text": [
            "Overwriting PracXI.cpp\n"
          ]
        }
      ]
    },
    {
      "cell_type": "code",
      "source": [
        "! g++ PracXI.cpp -o C++Stuff\n",
        "! ./C++Stuff"
      ],
      "metadata": {
        "colab": {
          "base_uri": "https://localhost:8080/"
        },
        "id": "tCpmGqXWEz0q",
        "outputId": "176cecca-5281-4d4d-81b7-85d289d2e3fd"
      },
      "execution_count": null,
      "outputs": [
        {
          "output_type": "stream",
          "name": "stdout",
          "text": [
            "100"
          ]
        }
      ]
    },
    {
      "cell_type": "code",
      "source": [
        "%%writefile PracXII.cpp\n",
        "\n",
        "#include <iostream>\n",
        "#include <cstdlib>\n",
        "#include <ctime>\n",
        "\n",
        "using namespace std;\n",
        "\n",
        "int main() {\n",
        "\n",
        "\n",
        "\n",
        "  // long elapsedSeconds; // Jan 1 1970\n",
        "  // passign a an argument\n",
        "  srand(time(0));\n",
        "  int number = rand() % 10;\n",
        "  cout << number;\n",
        "\n",
        "  return 0;\n",
        "}"
      ],
      "metadata": {
        "colab": {
          "base_uri": "https://localhost:8080/"
        },
        "id": "2eTDsGJIHDtW",
        "outputId": "3902400c-44e9-46a3-cb4d-308928938185"
      },
      "execution_count": null,
      "outputs": [
        {
          "output_type": "stream",
          "name": "stdout",
          "text": [
            "Overwriting PracXII.cpp\n"
          ]
        }
      ]
    },
    {
      "cell_type": "code",
      "source": [
        "! g++ PracXII.cpp -o C++Stuff\n",
        "! ./C++Stuff"
      ],
      "metadata": {
        "colab": {
          "base_uri": "https://localhost:8080/"
        },
        "id": "oPqMkBMkHUBT",
        "outputId": "69d65683-1a2e-4608-bf40-9ab458341bcb"
      },
      "execution_count": null,
      "outputs": [
        {
          "output_type": "stream",
          "name": "stdout",
          "text": [
            "4"
          ]
        }
      ]
    },
    {
      "cell_type": "code",
      "source": [
        "%%writefile PracXIII.cpp\n",
        "\n",
        "#include <iostream>\n",
        "#include <cstdlib>\n",
        "#include <ctime>\n",
        "\n",
        "using namespace std;\n",
        "\n",
        "int main() {\n",
        "\n",
        "// method 1:\n",
        "  // const short minValue = 1;\n",
        "  // const short maxValue = 6;\n",
        "\n",
        "\n",
        "  // srand(time(0));\n",
        "  // // int dice = [rand() % (maxValue - minValue + 1)] + minValue;\n",
        "  // short die1 = (rand() % (maxValue - minValue + 1)) + minValue;\n",
        "  // short die2 = (rand() % (maxValue - minValue + 1)) + minValue;\n",
        "  // cout << die1 << \", \" << die2 ;\n",
        "\n",
        "\n",
        "// method 2:\n",
        "  srand(time(0));\n",
        "\tint Die1 = rand() % 6;    // To limit the output to 0-5\n",
        "\tint Die2 = rand() % 6;    //To limit the output to 0-5\n",
        "\n",
        "\tcout << \"Die 1 Value: \" << Die1++ << endl  //The \"++\" allows the output to be 1-6\n",
        "\t\t << \"Die 2 Value: \" << Die2++ << endl;  //The \"++\" allows the output to be 1-6\n",
        "\n",
        "  return 0;\n",
        "}"
      ],
      "metadata": {
        "colab": {
          "base_uri": "https://localhost:8080/"
        },
        "id": "BbBMHDEobiOY",
        "outputId": "3aa3ab8f-1716-402e-982e-3c8427f79dc8"
      },
      "execution_count": null,
      "outputs": [
        {
          "output_type": "stream",
          "name": "stdout",
          "text": [
            "Overwriting PracXIII.cpp\n"
          ]
        }
      ]
    },
    {
      "cell_type": "code",
      "source": [
        "! g++ PracXIII.cpp -o C++Stuff\n",
        "! ./C++Stuff"
      ],
      "metadata": {
        "colab": {
          "base_uri": "https://localhost:8080/"
        },
        "id": "WEgfZwXhbykc",
        "outputId": "7f358e29-9759-49a7-fa70-e46fb060a420"
      },
      "execution_count": null,
      "outputs": [
        {
          "output_type": "stream",
          "name": "stdout",
          "text": [
            "Die 1 Value: 1\n",
            "Die 2 Value: 4\n"
          ]
        }
      ]
    },
    {
      "cell_type": "code",
      "source": [
        "%%writefile PracXIV.cpp\n",
        "\n",
        "\n",
        "// I treid calculating the kg and cm but something did not work???\n",
        "\n",
        "#include <iostream>\n",
        "#include <string>\n",
        "#include <cmath>\n",
        "\n",
        "using namespace std;\n",
        "\n",
        "const double CM =  2.54;\n",
        "\n",
        "int main() {\n",
        "\n",
        "  string name;\n",
        "  int age;\n",
        "  int weight;\n",
        "  int height;\n",
        "\n",
        "  // cout << \"Enter your name: \";\n",
        "  // cin >> name;\n",
        "\n",
        "  cout << \"Hi \" << name << \", please enter your weight (lbs) and height in inches\";\n",
        "  cin >> weight >> height;\n",
        "\n",
        "  // double pounds_kg = weight * KG;\n",
        "  // cout << pounds_kg << endl;\n",
        "\n",
        "  // double inches_cm = height * CM;\n",
        "  // cout << inches_cm << endl;\n",
        "\n",
        "  // double meters = inches_cm / 100;\n",
        "  // cout << meters << endl;\n",
        "\n",
        "  // double meters_square = pow(meters, 2);\n",
        "\n",
        "  double height_square = height * height;\n",
        "\n",
        "  double BMI = 703 * (weight / height_square);\n",
        "\n",
        "  cout << \"Your BMI is \" << BMI << endl;\n",
        "\n",
        "  return 0;\n",
        "}"
      ],
      "metadata": {
        "colab": {
          "base_uri": "https://localhost:8080/"
        },
        "id": "Mj-iYQpS5ZEE",
        "outputId": "e53fa314-0a33-4614-b781-db6f7409facb"
      },
      "execution_count": 37,
      "outputs": [
        {
          "output_type": "stream",
          "name": "stdout",
          "text": [
            "Overwriting PracXIV.cpp\n"
          ]
        }
      ]
    },
    {
      "cell_type": "code",
      "source": [
        "! g++ PracXIV.cpp -o C++Stuff\n",
        "! ./C++Stuff"
      ],
      "metadata": {
        "colab": {
          "base_uri": "https://localhost:8080/"
        },
        "id": "fCDijjsW5hgK",
        "outputId": "104c77ff-a9ce-4f0d-c232-5be882d45a9e"
      },
      "execution_count": 35,
      "outputs": [
        {
          "output_type": "stream",
          "name": "stdout",
          "text": [
            "Hi , please enter your weight (lbs) and height in inches120 62\n",
            "Your BMI is 21.9459\n"
          ]
        }
      ]
    }
  ]
}