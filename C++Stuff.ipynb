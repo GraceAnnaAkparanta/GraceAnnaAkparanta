{
  "nbformat": 4,
  "nbformat_minor": 0,
  "metadata": {
    "colab": {
      "provenance": [],
      "authorship_tag": "ABX9TyOrhWyAwXa9LJD/Zha72tfM",
      "include_colab_link": true
    },
    "kernelspec": {
      "name": "python3",
      "display_name": "Python 3"
    },
    "language_info": {
      "name": "python"
    }
  },
  "cells": [
    {
      "cell_type": "markdown",
      "metadata": {
        "id": "view-in-github",
        "colab_type": "text"
      },
      "source": [
        "<a href=\"https://colab.research.google.com/github/GraceAnnaAkparanta/GraceAnnaAkparanta/blob/main/C%2B%2BStuff.ipynb\" target=\"_parent\"><img src=\"https://colab.research.google.com/assets/colab-badge.svg\" alt=\"Open In Colab\"/></a>"
      ]
    },
    {
      "cell_type": "code",
      "execution_count": null,
      "metadata": {
        "colab": {
          "base_uri": "https://localhost:8080/"
        },
        "id": "t1rhuptLSm8O",
        "outputId": "e0c77bdc-1523-43c7-e394-e2fb3629f74c"
      },
      "outputs": [
        {
          "output_type": "stream",
          "name": "stdout",
          "text": [
            "Writing helloworld.cpp\n"
          ]
        }
      ],
      "source": [
        "%%writefile helloworld.cpp\n",
        "\n",
        "#include <iostream>\n",
        "using namespace std;\n",
        "\n",
        "int main() {\n",
        "\n",
        "  cout << \"Hello World!\";\n",
        "\n",
        "  return 0;\n",
        "}"
      ]
    },
    {
      "cell_type": "code",
      "source": [
        "! g++ helloworld.cpp -o C++Stuff\n",
        "! ./C++Stuff"
      ],
      "metadata": {
        "colab": {
          "base_uri": "https://localhost:8080/"
        },
        "id": "Q3yq3weISqTn",
        "outputId": "5cc1e79e-6e7f-44a5-d072-804e78b46550"
      },
      "execution_count": null,
      "outputs": [
        {
          "output_type": "stream",
          "name": "stdout",
          "text": [
            "Hello World!"
          ]
        }
      ]
    },
    {
      "cell_type": "code",
      "source": [
        "%%writefile file1.cpp\n",
        "\n",
        "\n",
        "//allows us to use (the predefined object) cout to generate output and (the mainpulator) endl.\n",
        "#include <iostream>\n",
        "\n",
        "//allows you to use cout and endl w/o the prefix std::\n",
        "using namespace std;\n",
        "\n",
        "// C++ program = collection of functions.\n",
        "//function is a set of statements whose objective is to accomplish soemthing. All C++ programs require the function main.\n",
        "int main() {//begins the body of function main\n",
        "\n",
        "  double length;\n",
        "  double width;\n",
        "  double area;\n",
        "  double perimeter;\n",
        "\n",
        "// << is an operator, called the stream insertion operator\n",
        "  cout << \"Program to compute and output the perimeter and \" << \"area of a rectangle.\\n\" << endl; // anything in double quotes is a string, a string = evaulates to itself.\n",
        "\n",
        "  width = 4.0;\n",
        "  perimeter = 2 * (length + width);  // length + width is an arithmetic expression; evaluates to the rules of arithmetis operations.\n",
        "\n",
        "\n",
        "cout << \"Enter number and press enter: \";\n",
        "cin >> length;\n",
        "cout << endl;\n",
        "  cout << \"Length = \" << length << endl; // identifer length evaluates to the value of length\n",
        "  cout << \"Width = \" << width << endl;\n",
        "  cout << \"Perimeter = \" << perimeter << endl;\n",
        "    area = length * width;\n",
        "  cout << \"Area = \" << area << endl;\n",
        "\n",
        "  return 0;\n",
        "}\n",
        "\n",
        "//all data must be loaded into main memory before it can be manipulated.\n",
        "//variable is a memory location whose contents can be changed."
      ],
      "metadata": {
        "colab": {
          "base_uri": "https://localhost:8080/"
        },
        "id": "Ax9BuPL9TYrb",
        "outputId": "ae0f62fd-f18f-4c4a-8928-b777509a61c7"
      },
      "execution_count": null,
      "outputs": [
        {
          "output_type": "stream",
          "name": "stdout",
          "text": [
            "Writing file1.cpp\n"
          ]
        }
      ]
    },
    {
      "cell_type": "code",
      "source": [
        "! g++ file1.cpp -o C++Stuff\n",
        "! ./C++Stuff"
      ],
      "metadata": {
        "colab": {
          "base_uri": "https://localhost:8080/"
        },
        "id": "rENfh7QVTTBy",
        "outputId": "633eae8b-c857-478e-f703-7e8ea198bbe4"
      },
      "execution_count": null,
      "outputs": [
        {
          "output_type": "stream",
          "name": "stdout",
          "text": [
            "Program to compute and output the perimeter and area of a rectangle.\n",
            "\n",
            "Enter number and press enter: 25\n",
            "\n",
            "Length = 25\n",
            "Width = 4\n",
            "Perimeter = 8\n",
            "Area = 100\n"
          ]
        }
      ]
    },
    {
      "cell_type": "code",
      "source": [
        "%%writefile Prac1.cpp\n",
        "\n",
        "#include <iostream>\n",
        "#include <unordered_map>\n",
        "\n",
        "using namespace std;\n",
        "\n",
        "int main() {\n",
        "\n",
        "  /*Syntax to call unorder map:\n",
        "  unordered_map<key, value> hashMap;\n",
        "  */\n",
        "\n",
        "  //average time complexity for search, insertion and deletion of a std::unordered_map is o(1)\n",
        "\n",
        "  // Declaring hashMap to be of\n",
        "  // <string, int> type key\n",
        "  // will be of STRING type\n",
        "  // and mapped VALUE will\n",
        "  // be of int type\n",
        "  unordered_map<string, int> hashMap;\n",
        "\n",
        "  //Insert key-value pairs into the unordered_map:\n",
        "  hashMap[\"one\"] = 10;\n",
        "  hashMap[\"two\"] = 20;\n",
        "  hashMap[\"three\"] = 30;\n",
        "  hashMap[\"four\"] = 40;\n",
        "  hashMap[\"five\"] = 50;\n",
        "  hashMap[\"six\"] = 60;\n",
        "  hashMap[\"seven\"] = 70;\n",
        "  hashMap[\"eight\"] = 80;\n",
        "  hashMap[\"nine\"] = 90;\n",
        "  hashMap[\"ten\"] = 100;\n",
        "\n",
        "\n",
        "  //Declaring the iterator explicitly\n",
        "  unordered_map<string, int>::iterator itr;\n",
        "\n",
        "  // Intiailize the iterator to the first element of hashMap\n",
        "  itr = hashMap.begin();\n",
        "\n",
        "  while (itr != hashMap.end()) {\n",
        "    string Thekey = itr->first;\n",
        "    int Thevalue = itr->second;\n",
        "    ++itr;\n",
        "\n",
        "    cout << \"Key: \" << Thekey << \", Value: \" << Thevalue << endl;\n",
        "  }\n",
        "\n",
        "  return 0;\n",
        "}"
      ],
      "metadata": {
        "colab": {
          "base_uri": "https://localhost:8080/"
        },
        "id": "IRNHWiI_TGoR",
        "outputId": "03bc06d1-b9f5-449f-9a90-51ff140f46bb"
      },
      "execution_count": null,
      "outputs": [
        {
          "output_type": "stream",
          "name": "stdout",
          "text": [
            "Overwriting Prac1.cpp\n"
          ]
        }
      ]
    },
    {
      "cell_type": "code",
      "source": [
        "! g++ Prac1.cpp -o C++Stuff\n",
        "! ./C++Stuff"
      ],
      "metadata": {
        "colab": {
          "base_uri": "https://localhost:8080/"
        },
        "outputId": "559ed596-90a6-4842-ac45-a5033b12fa5c",
        "id": "_aDiP9Wherl1"
      },
      "execution_count": null,
      "outputs": [
        {
          "output_type": "stream",
          "name": "stdout",
          "text": [
            "Key: ten, Value: 100\n",
            "Key: eight, Value: 80\n",
            "Key: seven, Value: 70\n",
            "Key: six, Value: 60\n",
            "Key: five, Value: 50\n",
            "Key: nine, Value: 90\n",
            "Key: four, Value: 40\n",
            "Key: three, Value: 30\n",
            "Key: two, Value: 20\n",
            "Key: one, Value: 10\n"
          ]
        }
      ]
    },
    {
      "cell_type": "code",
      "source": [
        "%%writefile Prac2.cpp\n",
        "\n",
        "#include <iostream>\n",
        "\n",
        "using namespace std;\n",
        "\n",
        "int main() {\n",
        "  int a = 1;\n",
        "  int b = 2;\n",
        "  int c = a; // c = 1\n",
        "\n",
        "  a = b; // a stores 2\n",
        "  b = c; // b stores 1\n",
        "\n",
        "  cout << b;\n",
        "\n",
        "  return 0;\n",
        "}"
      ],
      "metadata": {
        "colab": {
          "base_uri": "https://localhost:8080/"
        },
        "id": "T_pFM5jh0_oS",
        "outputId": "95d8d725-6d4c-414c-9912-71fb147bd473"
      },
      "execution_count": null,
      "outputs": [
        {
          "output_type": "stream",
          "name": "stdout",
          "text": [
            "Overwriting Prac2.cpp\n"
          ]
        }
      ]
    },
    {
      "cell_type": "code",
      "source": [
        "! g++ Prac2.cpp -o C++Stuff\n",
        "! ./C++Stuff"
      ],
      "metadata": {
        "colab": {
          "base_uri": "https://localhost:8080/"
        },
        "id": "lU_AQuZn1mhV",
        "outputId": "1f94da60-32d4-479f-99b1-e5968209116b"
      },
      "execution_count": null,
      "outputs": [
        {
          "output_type": "stream",
          "name": "stdout",
          "text": [
            "1"
          ]
        }
      ]
    },
    {
      "cell_type": "code",
      "source": [
        "%%writefile Prac3.cpp\n",
        "\n",
        "#include <iostream>\n",
        "\n",
        "using namespace std;\n",
        "\n",
        "int main() {\n",
        "  int x = 10;\n",
        "  // int y = x++; // x = 11, y = 10 postfix\n",
        "  int z = ++x; // x = 11, z = 11 prefix\n",
        "\n",
        "  cout << z << \" \" << x;\n",
        "\n",
        "  return 0;\n",
        "}"
      ],
      "metadata": {
        "colab": {
          "base_uri": "https://localhost:8080/"
        },
        "id": "T-4e-zOm20Ud",
        "outputId": "33e08b54-3f82-4799-868b-94e9a54478de"
      },
      "execution_count": null,
      "outputs": [
        {
          "output_type": "stream",
          "name": "stdout",
          "text": [
            "Writing Prac3.cpp\n"
          ]
        }
      ]
    },
    {
      "cell_type": "code",
      "source": [
        "! g++ Prac3.cpp -o C++Stuff\n",
        "! ./C++Stuff"
      ],
      "metadata": {
        "colab": {
          "base_uri": "https://localhost:8080/"
        },
        "id": "vWNxpdw0FAwP",
        "outputId": "c385d8f3-5a66-4123-fb37-03f2edfab13c"
      },
      "execution_count": null,
      "outputs": [
        {
          "output_type": "stream",
          "name": "stdout",
          "text": [
            "12 12"
          ]
        }
      ]
    },
    {
      "cell_type": "code",
      "source": [
        "%%writefile Prac4.cpp\n",
        "\n",
        "#include <iostream>\n",
        "\n",
        "using namespace std;\n",
        "\n",
        "int main() {\n",
        "\n",
        "  int x = 10;\n",
        "  double y = 5;\n",
        "\n",
        "  double z = (x + 10) / (3 * y);\n",
        "\n",
        "  cout << z;\n",
        "\n",
        "  return 0;\n",
        "}"
      ],
      "metadata": {
        "id": "Sb9NokhtFFYF",
        "colab": {
          "base_uri": "https://localhost:8080/"
        },
        "outputId": "0fe77f33-b331-455d-c192-50ca8f5f761d"
      },
      "execution_count": null,
      "outputs": [
        {
          "output_type": "stream",
          "name": "stdout",
          "text": [
            "Overwriting Prac4.cpp\n"
          ]
        }
      ]
    },
    {
      "cell_type": "code",
      "source": [
        "! g++ Prac4.cpp -o C++Stuff\n",
        "! ./C++Stuff"
      ],
      "metadata": {
        "colab": {
          "base_uri": "https://localhost:8080/"
        },
        "id": "HfHtkKOTB4m7",
        "outputId": "ceaa51f3-3430-4415-abbc-08af727eb545"
      },
      "execution_count": null,
      "outputs": [
        {
          "output_type": "stream",
          "name": "stdout",
          "text": [
            "1.33333"
          ]
        }
      ]
    },
    {
      "cell_type": "code",
      "source": [
        "%%writefile Prac5.cpp\n",
        "\n",
        "#include <iostream>\n",
        "\n",
        "using namespace std;\n",
        "\n",
        "int main() {\n",
        "\n",
        "  string username;\n",
        "\n",
        "  cout << \"Enter you name: \" << username;\n",
        "  cin >> username;\n",
        "\n",
        "  int sales;\n",
        "  cout << \"Enter slaes incomce:\" << sales;\n",
        "  cin >> sales;\n",
        "\n",
        "  const double statetax = 0.04;\n",
        "  const double countytax = 0.02;\n",
        "\n",
        "  double Staxes = (sales * statetax);\n",
        "  double CTtaxes = (sales * countytax);\n",
        "  double total = Staxes + CTtaxes;\n",
        "\n",
        "  cout << username << \", your total sales is: $\" << sales << endl;\n",
        "  cout << \"Your state tax is: $\" << Staxes << \". and your County tax is: $\" << CTtaxes << endl;\n",
        "  cout << \"The total tax that you have to pay on your income is: $\" << total << endl;\n",
        "\n",
        "  return 0;\n",
        "}"
      ],
      "metadata": {
        "id": "b3684tDNC0sd",
        "colab": {
          "base_uri": "https://localhost:8080/"
        },
        "outputId": "c84c25ef-e2ac-42c6-dc7e-3a20f9584f46"
      },
      "execution_count": 46,
      "outputs": [
        {
          "output_type": "stream",
          "name": "stdout",
          "text": [
            "Overwriting Prac5.cpp\n"
          ]
        }
      ]
    },
    {
      "cell_type": "code",
      "source": [
        "! g++ Prac5.cpp -o C++Stuff\n",
        "! ./C++Stuff"
      ],
      "metadata": {
        "colab": {
          "base_uri": "https://localhost:8080/"
        },
        "id": "PiiBZEKQJ5rf",
        "outputId": "6d64e40c-8cc0-424c-90ff-ea978d03e54b"
      },
      "execution_count": 47,
      "outputs": [
        {
          "output_type": "stream",
          "name": "stdout",
          "text": [
            "Enter you name: Grace\n",
            "Enter slaes incomce:095000\n",
            "Grace, your total sales is: $95000\n",
            "Your state tax is: $3800. and your County tax is: $1900\n",
            "The total tax that you have to pay on your income is: $5700\n"
          ]
        }
      ]
    },
    {
      "cell_type": "code",
      "source": [
        "%%writefile Prac6.cpp\n",
        "\n",
        "#include <iostream>\n",
        "\n",
        "using namespace std;\n",
        "\n",
        "int main() {\n",
        "\n",
        "  int x;\n",
        "\n",
        "  cout << \"Enter a number: \" << endl;\n",
        "  cin >> x;\n",
        "\n",
        "  int y = x % 10;\n",
        "  cout << \"Is the last digit \" << y << \"?\" << endl;\n",
        "\n",
        "   int z = x / 10;\n",
        "  cout << \"Is the last digit \" << z << \"?\" << endl;\n",
        "\n",
        "  return 0;\n",
        "}"
      ],
      "metadata": {
        "colab": {
          "base_uri": "https://localhost:8080/"
        },
        "id": "xEcaunOiRIEd",
        "outputId": "4a6868ab-2519-418a-cf1f-95bb7bf15c56"
      },
      "execution_count": 2,
      "outputs": [
        {
          "output_type": "stream",
          "name": "stdout",
          "text": [
            "Overwriting Prac6.cpp\n"
          ]
        }
      ]
    },
    {
      "cell_type": "code",
      "source": [
        "! g++ Prac6.cpp -o C++Stuff\n",
        "! ./C++Stuff"
      ],
      "metadata": {
        "colab": {
          "base_uri": "https://localhost:8080/"
        },
        "id": "wygoYb9K6JUi",
        "outputId": "6dfafc1f-eaba-40cd-aeef-0b66a550ec9e"
      },
      "execution_count": 3,
      "outputs": [
        {
          "output_type": "stream",
          "name": "stdout",
          "text": [
            "Enter a number: \n",
            "20\n",
            "Is the last digit 0?\n",
            "Is the last digit 2?\n"
          ]
        }
      ]
    },
    {
      "cell_type": "code",
      "source": [
        "%%writefile Prac7.cpp\n",
        "\n",
        "#include <iostream>\n",
        "#include <cmath>\n",
        "\n",
        "using namespace std;\n",
        "\n",
        "int main() {\n",
        "\n",
        "  int fahrenheit;\n",
        "  double celsius;\n",
        "\n",
        "  cout << \"Enter temperature in Fahrenheit: \";\n",
        "  cin >> fahrenheit;\n",
        "\n",
        "  celsius = (fahrenheit - 32) * (5.0/9.0);\n",
        "\n",
        "  cout << fahrenheit << \"  fahrenheit is \" << celsius << \" degress celsius. (Not rounded)\" << endl;\n",
        "  cout << fahrenheit << \"  fahrenheit is \" << round(celsius) << \" degress celsius.\"; //had to include cmath library to use cmath\n",
        "\n",
        "  return 0;\n",
        "}"
      ],
      "metadata": {
        "colab": {
          "base_uri": "https://localhost:8080/"
        },
        "id": "3c7mTqfBsOQ-",
        "outputId": "2f10c97d-c894-4e1e-8398-df244d4b21cc"
      },
      "execution_count": 35,
      "outputs": [
        {
          "output_type": "stream",
          "name": "stdout",
          "text": [
            "Overwriting Prac7.cpp\n"
          ]
        }
      ]
    },
    {
      "cell_type": "code",
      "source": [
        "! g++ Prac7.cpp -o C++Stuff\n",
        "! ./C++Stuff"
      ],
      "metadata": {
        "colab": {
          "base_uri": "https://localhost:8080/"
        },
        "id": "KsbFEzhcsPs8",
        "outputId": "b80721ab-2cf6-44ae-a21f-0a708bc538aa"
      },
      "execution_count": 36,
      "outputs": [
        {
          "output_type": "stream",
          "name": "stdout",
          "text": [
            "Enter temperature in Fahrenheit: 76\n",
            "76  fahrenheit is 24.4444 degress celsius. (Not rounded)\n",
            "76  fahrenheit is 24 degress celsius."
          ]
        }
      ]
    },
    {
      "cell_type": "code",
      "source": [
        "%%writefile Prac8.cpp\n",
        "\n",
        "#include <iostream>\n",
        "#include <cmath>\n",
        "\n",
        "using namespace std;\n",
        "\n",
        "int main() {\n",
        "\n",
        "  double result = floor(1.2); //calling a floor function\n",
        "  cout << result << endl;\n",
        "\n",
        "  double resultex = pow(2, 3);\n",
        "  cout << resultex;\n",
        "\n",
        "  return 0;\n",
        "}"
      ],
      "metadata": {
        "colab": {
          "base_uri": "https://localhost:8080/"
        },
        "id": "38wGTIwhsVJS",
        "outputId": "8e6dcc96-92ed-46df-c28b-31b9d60d29a5"
      },
      "execution_count": 45,
      "outputs": [
        {
          "output_type": "stream",
          "name": "stdout",
          "text": [
            "Overwriting Prac8.cpp\n"
          ]
        }
      ]
    },
    {
      "cell_type": "code",
      "source": [
        "! g++ Prac8.cpp -o C++Stuff\n",
        "! ./C++Stuff"
      ],
      "metadata": {
        "colab": {
          "base_uri": "https://localhost:8080/"
        },
        "id": "xtlXfcLqwD3Y",
        "outputId": "6faa48cb-c3f0-4479-96f1-10839b13ace0"
      },
      "execution_count": 46,
      "outputs": [
        {
          "output_type": "stream",
          "name": "stdout",
          "text": [
            "1\n",
            "8"
          ]
        }
      ]
    },
    {
      "cell_type": "code",
      "source": [
        "%%writefile Prac9.cpp\n",
        "\n",
        "#include <iostream>\n",
        "#include <cmath>\n",
        "\n",
        "using namespace std;\n",
        "\n",
        "int main() {\n",
        "\n",
        "  cout << \"Enter the radius of a circle: \";\n",
        "  double radius;\n",
        "  cin >> radius;\n",
        "\n",
        "  double area = M_PI * pow(radius, 2);\n",
        "  cout << \"The circle has a radius of \" << radius << \" and its area is \" << area << \".\" << endl;\n",
        "\n",
        "  return 0;\n",
        "}"
      ],
      "metadata": {
        "colab": {
          "base_uri": "https://localhost:8080/"
        },
        "id": "edlggVdmwmq4",
        "outputId": "5513f4ec-9287-4286-e178-7edd2279fb8e"
      },
      "execution_count": 57,
      "outputs": [
        {
          "output_type": "stream",
          "name": "stdout",
          "text": [
            "Overwriting Prac9.cpp\n"
          ]
        }
      ]
    },
    {
      "cell_type": "code",
      "source": [
        "! g++ Prac9.cpp -o C++Stuff\n",
        "! ./C++Stuff"
      ],
      "metadata": {
        "colab": {
          "base_uri": "https://localhost:8080/"
        },
        "id": "GBxVNmMbwuUN",
        "outputId": "bdbee4f5-2b65-4f6f-fd54-1d08923ca6aa"
      },
      "execution_count": 58,
      "outputs": [
        {
          "output_type": "stream",
          "name": "stdout",
          "text": [
            "Enter the radius of a circle: 4\n",
            "The circle has a radius of 4 and its area is 50.2655.\n"
          ]
        }
      ]
    }
  ]
}